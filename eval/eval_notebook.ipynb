{
 "cells": [
  {
   "cell_type": "code",
   "execution_count": 1,
   "metadata": {},
   "outputs": [],
   "source": [
    "import torch\n",
    "import torch.nn as nn\n",
    "import torch.nn.functional as F\n",
    "import torchvision\n",
    "from torchvision import transforms as pth_transforms\n",
    "\n",
    "import numpy as np\n",
    "from PIL import Image\n",
    "\n",
    "from tqdm import *\n",
    "\n",
    "import time\n",
    "import timm\n",
    "\n",
    "from timm.data import resolve_data_config\n",
    "from timm.data.transforms_factory import create_transform\n",
    "\n",
    "from GPR1200 import GPR1200"
   ]
  },
  {
   "cell_type": "markdown",
   "metadata": {},
   "source": [
    "### Define models that should be evaluated with timm"
   ]
  },
  {
   "cell_type": "code",
   "execution_count": 2,
   "metadata": {},
   "outputs": [],
   "source": [
    "model_list = [\n",
    "             \"resnetv2_101x1_bitm\",\n",
    "             \"resnetv2_101x1_bitm_in21k\",\n",
    "             \"resnetv2_101x3_bitm\",\n",
    "             \"resnetv2_101x3_bitm_in21k\",\n",
    "             \"tf_efficientnetv2_l\",\n",
    "             \"tf_efficientnetv2_l_in21ft1k\",\n",
    "             \"tf_efficientnetv2_l_in21k\",\n",
    "             \"vit_base_patch16_224\",\n",
    "             \"vit_base_patch16_224_in21k\",\n",
    "             \"vit_large_patch16_224\",\n",
    "             \"vit_large_patch16_224_in21k\",\n",
    "             \"deit_base_patch16_224\",\n",
    "             \"deit_base_distilled_patch16_224\",\n",
    "             \"swin_base_patch4_window7_224\",\n",
    "             \"swin_base_patch4_window7_224_in22k\",\n",
    "             \"swin_large_patch4_window7_224\",\n",
    "             \"swin_large_patch4_window7_224_in22k\"\n",
    "            ]"
   ]
  },
  {
   "cell_type": "markdown",
   "metadata": {},
   "source": [
    "### Create Dataset Class and GPR1200 Dataset Object"
   ]
  },
  {
   "cell_type": "code",
   "execution_count": 3,
   "metadata": {},
   "outputs": [],
   "source": [
    "class TestDataset(torch.utils.data.Dataset):\n",
    "  'Characterizes a dataset for PyTorch'\n",
    "  def __init__(self, file_paths):\n",
    "        'Initialization'\n",
    "        self.file_paths = file_paths\n",
    "        \n",
    "  def __len__(self):\n",
    "        'Denotes the total number of samples'\n",
    "        return len(self.file_paths)\n",
    "\n",
    "  def __getitem__(self, index):\n",
    "        'Generates one sample of data'\n",
    "        # Select sample\n",
    "        return ppc_image(self.file_paths[index])"
   ]
  },
  {
   "cell_type": "code",
   "execution_count": 4,
   "metadata": {},
   "outputs": [],
   "source": [
    "GPR1200_dataset = GPR1200(\"/media/Data/images/GPR10x1200/images\")\n",
    "image_filepaths = GPR1200_dataset.image_files"
   ]
  },
  {
   "cell_type": "markdown",
   "metadata": {},
   "source": [
    "### Start Evaluation of selected models"
   ]
  },
  {
   "cell_type": "code",
   "execution_count": null,
   "metadata": {},
   "outputs": [
    {
     "name": "stderr",
     "output_type": "stream",
     "text": [
      "100%|██████████| 375/375 [01:41<00:00,  3.70it/s]\n"
     ]
    },
    {
     "name": "stdout",
     "output_type": "stream",
     "text": [
      "torch.Size([32, 2048])\n",
      "---------name: resnetv2_101x1_bitm -- dim: (12000, 2048)---------\n",
      "GPR1200 mAP: 0.5559\n",
      "Landmarks: 0.8221, IMSketch: 0.4709, iNat: 0.4298, Instre: 0.5292, SOP: 0.861, faces: 0.2227\n",
      "\n"
     ]
    },
    {
     "name": "stderr",
     "output_type": "stream",
     "text": [
      "100%|██████████| 375/375 [00:24<00:00, 15.01it/s]\n"
     ]
    },
    {
     "name": "stdout",
     "output_type": "stream",
     "text": [
      "torch.Size([32, 2048])\n",
      "---------name: resnetv2_101x1_bitm_in21k -- dim: (12000, 2048)---------\n",
      "GPR1200 mAP: 0.5494\n",
      "Landmarks: 0.8112, IMSketch: 0.4113, iNat: 0.4197, Instre: 0.5181, SOP: 0.8695, faces: 0.2668\n",
      "\n"
     ]
    },
    {
     "name": "stderr",
     "output_type": "stream",
     "text": [
      "100%|██████████| 375/375 [08:01<00:00,  1.28s/it]\n"
     ]
    },
    {
     "name": "stdout",
     "output_type": "stream",
     "text": [
      "torch.Size([32, 6144])\n",
      "---------name: resnetv2_101x3_bitm -- dim: (12000, 6144)---------\n",
      "GPR1200 mAP: 0.5694\n",
      "Landmarks: 0.8297, IMSketch: 0.5292, iNat: 0.4012, Instre: 0.5564, SOP: 0.8722, faces: 0.2273\n",
      "\n"
     ]
    },
    {
     "name": "stderr",
     "output_type": "stream",
     "text": [
      "100%|██████████| 375/375 [02:14<00:00,  2.79it/s]\n"
     ]
    },
    {
     "name": "stdout",
     "output_type": "stream",
     "text": [
      "torch.Size([32, 6144])\n",
      "---------name: resnetv2_101x3_bitm_in21k -- dim: (12000, 6144)---------\n"
     ]
    }
   ],
   "source": [
    "# CUDA for PyTorch\n",
    "use_cuda = torch.cuda.is_available()\n",
    "device = torch.device(\"cuda:0\" if use_cuda else \"cpu\")\n",
    "\n",
    "\n",
    "for m_name in model_list:\n",
    "    \n",
    "    # create models and their respective preprocessing chain\n",
    "    bb_model = timm.create_model(m_name, pretrained=True, num_classes=0)\n",
    "    data_config = resolve_data_config({}, model=bb_model)\n",
    "    transform = create_transform(**data_config)\n",
    "    \n",
    "    bb_model.to(device)\n",
    "    bb_model.eval()\n",
    "    \n",
    "    \n",
    "    # Preprocessing that will be run on each individuall test image\n",
    "    def ppc_image(path):\n",
    "    \n",
    "        with open(path, 'rb') as f:\n",
    "            img = Image.open(f)\n",
    "            img = img.convert('RGB')\n",
    "\n",
    "        img = transform(img)\n",
    "\n",
    "        return img\n",
    "    \n",
    "    # dataloader parameters\n",
    "    batch_size = 32\n",
    "    params = {'batch_size': batch_size,\n",
    "          'shuffle': False,\n",
    "          'num_workers': 6}\n",
    "\n",
    "    gpr1200_loader = torch.utils.data.DataLoader(TestDataset(image_filepaths), **params)\n",
    "    \n",
    "    \n",
    "    # some addtional info\n",
    "    time_start = time.time()\n",
    "    fv_list = []\n",
    "    \n",
    "    pbar = tqdm(enumerate(gpr1200_loader), position=0, leave=True, total=(int(len(image_filepaths) / batch_size)))\n",
    "    \n",
    "    with torch.set_grad_enabled(False):\n",
    "        for i, local_batch in pbar:\n",
    "\n",
    "            local_batch = local_batch.to(device)\n",
    "            fv = bb_model(local_batch)\n",
    "                \n",
    "            fv = fv / torch.norm(fv, dim=-1, keepdim=True)\n",
    "           \n",
    "            fv_list += list(fv.cpu().numpy())\n",
    "            pbar.update()\n",
    "    \n",
    "        print(fv.shape)\n",
    "    \n",
    "    # display some addtional info\n",
    "    fv_list = np.array(fv_list).astype(float)\n",
    "    print(\"---------name: {} -- dim: {}---------\".format(m_name, fv_list.shape))\n",
    "    time_needed = np.round((time.time() - time_start) / len(image_filepaths) * 1000, 2)\n",
    "    dim = fv_list.shape[-1]\n",
    "    input_size = data_config[\"input_size\"]\n",
    "    \n",
    "    \n",
    "    # run this line to evaluate dataset embeddings\n",
    "    gpr, lm, iNat, ims, instre, sop, faces = GPR1200_dataset.evaluate(fv_list, compute_partial=True)\n",
    "    print(\"GPR1200 mAP: {}\".format(gpr))\n",
    "    print(\"Landmarks: {}, IMSketch: {}, iNat: {}, Instre: {}, SOP: {}, faces: {}\".format(lm, ims, iNat, instre, sop, faces))\n",
    "    print()\n",
    "    \n",
    "    del bb_model"
   ]
  }
 ],
 "metadata": {
  "kernelspec": {
   "display_name": "Python [conda env:pytorch]",
   "language": "python",
   "name": "conda-env-pytorch-py"
  },
  "language_info": {
   "codemirror_mode": {
    "name": "ipython",
    "version": 3
   },
   "file_extension": ".py",
   "mimetype": "text/x-python",
   "name": "python",
   "nbconvert_exporter": "python",
   "pygments_lexer": "ipython3",
   "version": "3.8.5"
  },
  "varInspector": {
   "cols": {
    "lenName": 16,
    "lenType": 16,
    "lenVar": 40
   },
   "kernels_config": {
    "python": {
     "delete_cmd_postfix": "",
     "delete_cmd_prefix": "del ",
     "library": "var_list.py",
     "varRefreshCmd": "print(var_dic_list())"
    },
    "r": {
     "delete_cmd_postfix": ") ",
     "delete_cmd_prefix": "rm(",
     "library": "var_list.r",
     "varRefreshCmd": "cat(var_dic_list()) "
    }
   },
   "types_to_exclude": [
    "module",
    "function",
    "builtin_function_or_method",
    "instance",
    "_Feature"
   ],
   "window_display": false
  }
 },
 "nbformat": 4,
 "nbformat_minor": 4
}
